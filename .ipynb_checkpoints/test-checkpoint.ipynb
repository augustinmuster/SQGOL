{
 "cells": [
  {
   "cell_type": "code",
   "execution_count": null,
   "metadata": {},
   "outputs": [],
   "source": [
    "\n",
    "\n",
    "import numpy as np\n",
    "import matplotlib.pyplot as plt\n",
    "import matplotlib.animation as animation\n",
    "\n",
    "N = 100\n",
    "ON = 255\n",
    "OFF = 0\n",
    "vals = [ON, OFF]\n",
    "\n",
    "# populate grid with random on/off - more off than on\n",
    "grid = np.random.choice(vals, N*N, p=[0.1, 0.9]).reshape(N, N)\n",
    "\n",
    "def update(data):\n",
    "  global grid\n",
    "  # copy grid since we require 8 neighbors for calculation\n",
    "  # and we go line by line\n",
    "  newGrid = grid.copy()\n",
    "  for i in range(N):\n",
    "    for j in range(N):\n",
    "      # compute 8-neghbor sum\n",
    "      # using toroidal boundary conditions - x and y wrap around\n",
    "      # so that the simulaton takes place on a toroidal surface.\n",
    "      total = (grid[i, (j-1)%N] + grid[i, (j+1)%N] +\n",
    "               grid[(i-1)%N, j] + grid[(i+1)%N, j] +\n",
    "               grid[(i-1)%N, (j-1)%N] + grid[(i-1)%N, (j+1)%N] +\n",
    "               grid[(i+1)%N, (j-1)%N] + grid[(i+1)%N, (j+1)%N])/255\n",
    "      # apply Conway's rules\n",
    "      if grid[i, j]  == ON:\n",
    "        if (total < 2) or (total > 3):\n",
    "          newGrid[i, j] = OFF\n",
    "      else:\n",
    "        if total == 3:\n",
    "          newGrid[i, j] = ON\n",
    "  # update data\n",
    "  mat.set_data(newGrid)\n",
    "  grid = newGrid\n",
    "  return [mat]\n",
    "\n",
    "# set up animation\n",
    "fig, ax = plt.subplots()\n",
    "mat = ax.matshow(grid*0.1)\n",
    "ani = animation.FuncAnimation(fig, update, interval=50, save_count=50)\n",
    "plt.show()\n"
   ]
  },
  {
   "cell_type": "code",
   "execution_count": null,
   "metadata": {},
   "outputs": [],
   "source": []
  }
 ],
 "metadata": {
  "kernelspec": {
   "display_name": "Python 3",
   "language": "python",
   "name": "python3"
  }
 },
 "nbformat": 4,
 "nbformat_minor": 4
}
